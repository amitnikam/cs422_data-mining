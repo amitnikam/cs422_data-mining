{
 "cells": [
  {
   "cell_type": "markdown",
   "metadata": {},
   "source": [
    "# Recitation Questions"
   ]
  },
  {
   "cell_type": "code",
   "execution_count": 15,
   "metadata": {},
   "outputs": [],
   "source": [
    "import math\n",
    "import numpy as np\n",
    "import pandas as pd\n",
    "import matplotlib.pyplot as plt"
   ]
  },
  {
   "attachments": {},
   "cell_type": "markdown",
   "metadata": {},
   "source": [
    "___\n",
    "## Q4\n",
    "### 1."
   ]
  },
  {
   "cell_type": "code",
   "execution_count": 16,
   "metadata": {},
   "outputs": [
    {
     "data": {
      "text/plain": [
       "[<matplotlib.lines.Line2D at 0x7ff91a269250>]"
      ]
     },
     "execution_count": 16,
     "metadata": {},
     "output_type": "execute_result"
    },
    {
     "data": {
      "image/png": "[encoded data removed]",
      "text/plain": [
       "<Figure size 432x288 with 1 Axes>"
      ]
     },
     "metadata": {
      "needs_background": "light"
     },
     "output_type": "display_data"
    }
   ],
   "source": [
    "cache = pd.DataFrame([(k, math.factorial(k) * (10**k) / ((k*10) ** k)) for k in range(2, 101)])\n",
    "cache.columns = [\"Clusters\", \"Probability\"]\n",
    "plt.xlabel(\"Clusters\")\n",
    "plt.ylabel(\"Probability of one inital centroid from k-clusters\")\n",
    "plt.plot(results[\"Clusters\"], results[\"Probability\"])"
   ]
  },
  {
   "cell_type": "markdown",
   "metadata": {},
   "source": [
    "### 2."
   ]
  },
  {
   "cell_type": "code",
   "execution_count": 17,
   "metadata": {},
   "outputs": [
    {
     "name": "stdout",
     "output_type": "stream",
     "text": [
      "   Clusters   Probability\n",
      "0        10  3.628800e-04\n",
      "1       100  9.332622e-43\n",
      "2      1000  0.000000e+00\n"
     ]
    }
   ],
   "source": [
    "cache = pd.DataFrame([(k, math.factorial(k) * ((2*k)**k) / ((k*(2*k)) ** k)) for k in [10, 100, 1000]])\n",
    "cache.columns = [\"Clusters\", \"Probability\"]\n",
    "print(cache)"
   ]
  },
  {
   "cell_type": "markdown",
   "metadata": {},
   "source": [
    "___\n",
    "## Q7\n",
    "\n",
    "More centroids should be allocated to the less dense region because For points spread over a large area, many centroids would help in providing less distance to the points and becoming accurate calculations."
   ]
  },
  {
   "cell_type": "markdown",
   "metadata": {},
   "source": [
    "___\n",
    "## Q11\n",
    "\n",
    "If the SSE of one attribute is low for all clusters, then the variable is possibly a constant and not much useful in dividing the data into groups, thus it can be dropped. Alternatively if SSE of one attribute is relatively low for just one cluster, then that attribute helps to define the cluster.\n",
    "\n",
    "If the SSE of an attribute is relatively high for all clusters, then it might mean that the attribute is random/noise. Alternatively if SSE of an attribute is relatively high for one cluster, then it is not at par with the information provided by the attributes with low SSE that define the cluster. This attribute does not help define the cluster.\n",
    "\n",
    "By eliminating attributes with low or high SSE for all clusters, which are useless for clustering, we can improve the clustering.\n",
    "___"
   ]
  }
 ],
 "metadata": {
  "kernelspec": {
   "display_name": "Python 3",
   "language": "python",
   "name": "python3"
  },
  "language_info": {
   "codemirror_mode": {
    "name": "ipython",
    "version": 3
   },
   "file_extension": ".py",
   "mimetype": "text/x-python",
   "name": "python",
   "nbconvert_exporter": "python",
   "pygments_lexer": "ipython3",
   "version": "3.8.5"
  }
 },
 "nbformat": 4,
 "nbformat_minor": 4
}
